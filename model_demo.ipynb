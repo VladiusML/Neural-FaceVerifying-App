{
 "cells": [
  {
   "cell_type": "code",
   "execution_count": 1,
   "metadata": {},
   "outputs": [],
   "source": [
    "import os\n",
    "import torch\n",
    "import matplotlib.pyplot as plt\n",
    "from torch.utils.data import DataLoader, ConcatDataset, Subset\n",
    "from sklearn.model_selection import train_test_split\n",
    "from Dataset import SiameseDataset\n",
    "from scripts.utils import get_files_in_directory\n",
    "from model.SNN import SiameseNN\n",
    "from scripts.constants import POS_PATH, NEG_PATH, ANC_PATH, NUM_FILES, WEIGHTS_PATH"
   ]
  },
  {
   "cell_type": "code",
   "execution_count": 9,
   "metadata": {},
   "outputs": [],
   "source": [
    "# Get file paths for anchor, positive, and negative images\n",
    "anchor_files = get_files_in_directory(ANC_PATH, NUM_FILES)\n",
    "positive_files = get_files_in_directory(POS_PATH, NUM_FILES)\n",
    "negative_files = get_files_in_directory(NEG_PATH, NUM_FILES)\n",
    "\n",
    "# Create datasets for positive and negative pairs\n",
    "positive_dataset = SiameseDataset(anchor_files, positive_files, \"POS\")\n",
    "negative_dataset = SiameseDataset(anchor_files, negative_files, \"NEG\")\n",
    "\n",
    "# Concatenate positive and negative datasets\n",
    "dataset = ConcatDataset([positive_dataset, negative_dataset])\n",
    "\n",
    "# Split dataset into train and test sets\n",
    "indices = list(range(len(dataset)))\n",
    "train_indices, test_indices = train_test_split(indices, test_size = 0.25, random_state=42)\n",
    "\n",
    "train_dataset = Subset(dataset, train_indices)\n",
    "test_dataset = Subset(dataset, test_indices)\n",
    "\n",
    "train_loader = DataLoader(train_dataset, batch_size=8, shuffle = True)\n",
    "test_loader = DataLoader(test_dataset, batch_size = 8, shuffle = True)"
   ]
  },
  {
   "cell_type": "code",
   "execution_count": 10,
   "metadata": {},
   "outputs": [],
   "source": [
    "batch = next(iter(test_loader)) # Load batch for test"
   ]
  },
  {
   "cell_type": "code",
   "execution_count": 11,
   "metadata": {},
   "outputs": [],
   "source": [
    "# Load pre-trained Siamese Neural Network model\n",
    "\n",
    "model = SiameseNN()\n",
    "model.load_state_dict(torch.load(os.path.join(WEIGHTS_PATH, 'SiameseModel.pt')))\n",
    "model.eval();"
   ]
  },
  {
   "cell_type": "code",
   "execution_count": 27,
   "metadata": {},
   "outputs": [],
   "source": [
    "def show_images(batch, model, threshold=0.8):\n",
    "    \"\"\"\n",
    "    Display pairs of images from a batch along with their similarity score as predicted by the model.\n",
    "\n",
    "    Args:\n",
    "    - batch (tuple): A tuple containing batches of anchor images, siamese images, and labels.\n",
    "    - model: Pre-trained Siamese Neural Network model.\n",
    "    - threshold (float): Threshold for considering a pair similar.\n",
    "\n",
    "    Returns:\n",
    "    - None\n",
    "    \"\"\"\n",
    "    \n",
    "    for i in range(len(batch[0])):\n",
    "        image1 = batch[0][i].float()\n",
    "        image2 = batch[1][i].float()\n",
    "        \n",
    "        outputs = model(image1, image2)\n",
    "        image1_np = image1.cpu().numpy().transpose((1, 2, 0))\n",
    "        image2_np = image2.cpu().numpy().transpose((1, 2, 0))\n",
    "\n",
    "        fig, axes = plt.subplots(1, 2)\n",
    "        axes[0].imshow(image1_np)\n",
    "        axes[0].set_title('Image 1')\n",
    "        axes[0].axis('off')\n",
    "        axes[1].imshow(image2_np)\n",
    "        axes[1].set_title('Image 2')\n",
    "        axes[1].axis('off')\n",
    "        \n",
    "         \n",
    "        if (outputs > threshold).any():\n",
    "            print(\"True\")\n",
    "        else:\n",
    "            print(\"False\")\n",
    "        \n",
    "        plt.show()"
   ]
  },
  {
   "cell_type": "code",
   "execution_count": null,
   "metadata": {},
   "outputs": [],
   "source": [
    "show_images(batch, model)"
   ]
  }
 ],
 "metadata": {
  "kernelspec": {
   "display_name": "base",
   "language": "python",
   "name": "python3"
  },
  "language_info": {
   "codemirror_mode": {
    "name": "ipython",
    "version": 3
   },
   "file_extension": ".py",
   "mimetype": "text/x-python",
   "name": "python",
   "nbconvert_exporter": "python",
   "pygments_lexer": "ipython3",
   "version": "3.11.5"
  }
 },
 "nbformat": 4,
 "nbformat_minor": 2
}
