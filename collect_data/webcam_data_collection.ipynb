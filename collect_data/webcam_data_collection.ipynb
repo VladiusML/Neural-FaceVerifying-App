{
 "cells": [
  {
   "cell_type": "code",
   "execution_count": 1,
   "metadata": {},
   "outputs": [],
   "source": [
    "import os\n",
    "import cv2\n",
    "import uuid\n",
    "from constants import POS_PATH, ANC_PATH"
   ]
  },
  {
   "cell_type": "code",
   "execution_count": null,
   "metadata": {},
   "outputs": [],
   "source": [
    "cap = cv2.VideoCapture(0)\n",
    "\n",
    "while True: \n",
    "    ret, frame = cap.read() \n",
    "    frame = frame[120:120+250, 200:200+250, :]\n",
    "\n",
    "\n",
    "    imagepath_ANC = os.path.join(ANC_PATH, '{}.jpg'.format(uuid.uuid1()))\n",
    "    cv2.imwrite(imagepath_ANC, frame)\n",
    "\n",
    "    imagepath_POS = os.path.join(POS_PATH, '{}.jpg'.format(uuid.uuid1()))\n",
    "    cv2.imwrite(imagepath_POS, frame)\n",
    "\n",
    "    cv2.imshow(\"My Face\", frame)\n",
    "    \n",
    "    if cv2.waitKey(1) & 0xFF == ord('q'):\n",
    "        break\n",
    "\n",
    "cap.release()\n",
    "cv2.destroyAllWindows()"
   ]
  }
 ],
 "metadata": {
  "kernelspec": {
   "display_name": "base",
   "language": "python",
   "name": "python3"
  },
  "language_info": {
   "codemirror_mode": {
    "name": "ipython",
    "version": 3
   },
   "file_extension": ".py",
   "mimetype": "text/x-python",
   "name": "python",
   "nbconvert_exporter": "python",
   "pygments_lexer": "ipython3",
   "version": "3.11.5"
  }
 },
 "nbformat": 4,
 "nbformat_minor": 2
}
